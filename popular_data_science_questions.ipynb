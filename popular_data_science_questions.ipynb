{
 "cells": [
  {
   "cell_type": "markdown",
   "metadata": {},
   "source": [
    "# Popular Data Science Questions"
   ]
  },
  {
   "cell_type": "markdown",
   "metadata": {},
   "source": [
    "[Data Science Stack Exchange](https://datascience.stackexchange.com/) (DSSE) is a question and answer site for Data Science professionals, Machine Learning specialists, and those interested in learning more about the field. Each post (each question/answer) is subjected to upvotes and downvotes - This ensures good posts stay on top and are easily identified.\n",
    "\n",
    "In this project, we'll explore DSSE's database to find the most popular Data Science questions."
   ]
  },
  {
   "cell_type": "markdown",
   "metadata": {},
   "source": [
    "## Stack Exchange Data Explorer"
   ]
  },
  {
   "cell_type": "markdown",
   "metadata": {},
   "source": [
    "Stack Exchange Data Explorer is an open source tool for running arbitrary queries against public data from the Stack Exchange network. We'll use it to explore and get the data needed for our analysis.\n",
    "\n",
    "From the [DSSE database](https://data.stackexchange.com/datascience/query/new), let's focus our attention on the **Posts** table. We'll choose some of its columns which contain relevant information:\n",
    "- *Id*: An identification number for the post\n",
    "- *PostTypeId*: An identification number of the type of post\n",
    "- *CreationDate*: The date and time of creation of the post\n",
    "- *Score*: The post's score\n",
    "- *ViewCount*: How many times the post was viewed\n",
    "- *Tags*: What tags were used\n",
    "- *AnswerCount*: How many answers the question got (only applicable to question posts)\n",
    "- *FavoriteCount*: How many times the question was favored (only applicable to question posts)\n",
    "\n",
    "We will also limit our analysis to questions (*PostTypeId* is 1) and recent posts only (from 2019)."
   ]
  },
  {
   "cell_type": "markdown",
   "metadata": {},
   "source": [
    "Let's run a query against the DSSE database to extracts the data we need:\n",
    "\n",
    "    SELECT Id, PostTypeId, CreationDate, Score, \n",
    "           ViewCount, Tags, AnswerCount, FavoriteCount\n",
    "      FROM Posts\n",
    "     WHERE PostTypeId = 1 AND YEAR(CreationDate) >= 2019;"
   ]
  },
  {
   "cell_type": "markdown",
   "metadata": {},
   "source": [
    "## Data Cleaning"
   ]
  },
  {
   "cell_type": "code",
   "execution_count": 1,
   "metadata": {},
   "outputs": [
    {
     "data": {
      "text/html": [
       "<div>\n",
       "<style scoped>\n",
       "    .dataframe tbody tr th:only-of-type {\n",
       "        vertical-align: middle;\n",
       "    }\n",
       "\n",
       "    .dataframe tbody tr th {\n",
       "        vertical-align: top;\n",
       "    }\n",
       "\n",
       "    .dataframe thead th {\n",
       "        text-align: right;\n",
       "    }\n",
       "</style>\n",
       "<table border=\"1\" class=\"dataframe\">\n",
       "  <thead>\n",
       "    <tr style=\"text-align: right;\">\n",
       "      <th></th>\n",
       "      <th>Id</th>\n",
       "      <th>PostTypeId</th>\n",
       "      <th>CreationDate</th>\n",
       "      <th>Score</th>\n",
       "      <th>ViewCount</th>\n",
       "      <th>Tags</th>\n",
       "      <th>AnswerCount</th>\n",
       "      <th>FavoriteCount</th>\n",
       "    </tr>\n",
       "  </thead>\n",
       "  <tbody>\n",
       "    <tr>\n",
       "      <th>0</th>\n",
       "      <td>72398</td>\n",
       "      <td>1</td>\n",
       "      <td>2020-04-15 22:28:18</td>\n",
       "      <td>0</td>\n",
       "      <td>7</td>\n",
       "      <td>&lt;aws&gt;</td>\n",
       "      <td>0</td>\n",
       "      <td>NaN</td>\n",
       "    </tr>\n",
       "    <tr>\n",
       "      <th>1</th>\n",
       "      <td>72399</td>\n",
       "      <td>1</td>\n",
       "      <td>2020-04-15 23:22:59</td>\n",
       "      <td>2</td>\n",
       "      <td>15</td>\n",
       "      <td>&lt;deep-learning&gt;&lt;keras&gt;&lt;cnn&gt;</td>\n",
       "      <td>1</td>\n",
       "      <td>NaN</td>\n",
       "    </tr>\n",
       "    <tr>\n",
       "      <th>2</th>\n",
       "      <td>72401</td>\n",
       "      <td>1</td>\n",
       "      <td>2020-04-15 23:39:00</td>\n",
       "      <td>0</td>\n",
       "      <td>47</td>\n",
       "      <td>&lt;python&gt;&lt;matplotlib&gt;&lt;seaborn&gt;</td>\n",
       "      <td>0</td>\n",
       "      <td>NaN</td>\n",
       "    </tr>\n",
       "    <tr>\n",
       "      <th>3</th>\n",
       "      <td>72402</td>\n",
       "      <td>1</td>\n",
       "      <td>2020-04-15 23:57:23</td>\n",
       "      <td>0</td>\n",
       "      <td>64</td>\n",
       "      <td>&lt;python&gt;&lt;pandas&gt;&lt;numpy&gt;</td>\n",
       "      <td>0</td>\n",
       "      <td>NaN</td>\n",
       "    </tr>\n",
       "    <tr>\n",
       "      <th>4</th>\n",
       "      <td>72404</td>\n",
       "      <td>1</td>\n",
       "      <td>2020-04-16 01:17:31</td>\n",
       "      <td>0</td>\n",
       "      <td>6</td>\n",
       "      <td>&lt;autoencoder&gt;</td>\n",
       "      <td>0</td>\n",
       "      <td>NaN</td>\n",
       "    </tr>\n",
       "  </tbody>\n",
       "</table>\n",
       "</div>"
      ],
      "text/plain": [
       "      Id  PostTypeId        CreationDate  Score  ViewCount  \\\n",
       "0  72398           1 2020-04-15 22:28:18      0          7   \n",
       "1  72399           1 2020-04-15 23:22:59      2         15   \n",
       "2  72401           1 2020-04-15 23:39:00      0         47   \n",
       "3  72402           1 2020-04-15 23:57:23      0         64   \n",
       "4  72404           1 2020-04-16 01:17:31      0          6   \n",
       "\n",
       "                            Tags  AnswerCount  FavoriteCount  \n",
       "0                          <aws>            0            NaN  \n",
       "1    <deep-learning><keras><cnn>            1            NaN  \n",
       "2  <python><matplotlib><seaborn>            0            NaN  \n",
       "3        <python><pandas><numpy>            0            NaN  \n",
       "4                  <autoencoder>            0            NaN  "
      ]
     },
     "execution_count": 1,
     "metadata": {},
     "output_type": "execute_result"
    }
   ],
   "source": [
    "# Read the extracted data into a dataframe\n",
    "import pandas as pd\n",
    "questions = pd.read_csv('QueryResults.csv', parse_dates=['CreationDate'])\n",
    "questions.head()"
   ]
  },
  {
   "cell_type": "code",
   "execution_count": 2,
   "metadata": {},
   "outputs": [
    {
     "name": "stdout",
     "output_type": "stream",
     "text": [
      "<class 'pandas.core.frame.DataFrame'>\n",
      "RangeIndex: 13626 entries, 0 to 13625\n",
      "Data columns (total 8 columns):\n",
      " #   Column         Non-Null Count  Dtype         \n",
      "---  ------         --------------  -----         \n",
      " 0   Id             13626 non-null  int64         \n",
      " 1   PostTypeId     13626 non-null  int64         \n",
      " 2   CreationDate   13626 non-null  datetime64[ns]\n",
      " 3   Score          13626 non-null  int64         \n",
      " 4   ViewCount      13626 non-null  int64         \n",
      " 5   Tags           13626 non-null  object        \n",
      " 6   AnswerCount    13626 non-null  int64         \n",
      " 7   FavoriteCount  2192 non-null   float64       \n",
      "dtypes: datetime64[ns](1), float64(1), int64(5), object(1)\n",
      "memory usage: 851.8+ KB\n"
     ]
    }
   ],
   "source": [
    "questions.info()"
   ]
  },
  {
   "cell_type": "markdown",
   "metadata": {},
   "source": [
    "Most of the values in *FavoriteCount* are nulls - Let's replace them with 0. For the values in *Tags* column, we'll transfrom them into lists."
   ]
  },
  {
   "cell_type": "code",
   "execution_count": 3,
   "metadata": {},
   "outputs": [
    {
     "data": {
      "text/html": [
       "<div>\n",
       "<style scoped>\n",
       "    .dataframe tbody tr th:only-of-type {\n",
       "        vertical-align: middle;\n",
       "    }\n",
       "\n",
       "    .dataframe tbody tr th {\n",
       "        vertical-align: top;\n",
       "    }\n",
       "\n",
       "    .dataframe thead th {\n",
       "        text-align: right;\n",
       "    }\n",
       "</style>\n",
       "<table border=\"1\" class=\"dataframe\">\n",
       "  <thead>\n",
       "    <tr style=\"text-align: right;\">\n",
       "      <th></th>\n",
       "      <th>Id</th>\n",
       "      <th>PostTypeId</th>\n",
       "      <th>CreationDate</th>\n",
       "      <th>Score</th>\n",
       "      <th>ViewCount</th>\n",
       "      <th>Tags</th>\n",
       "      <th>AnswerCount</th>\n",
       "      <th>FavoriteCount</th>\n",
       "    </tr>\n",
       "  </thead>\n",
       "  <tbody>\n",
       "    <tr>\n",
       "      <th>0</th>\n",
       "      <td>72398</td>\n",
       "      <td>1</td>\n",
       "      <td>2020-04-15 22:28:18</td>\n",
       "      <td>0</td>\n",
       "      <td>7</td>\n",
       "      <td>[aws]</td>\n",
       "      <td>0</td>\n",
       "      <td>0</td>\n",
       "    </tr>\n",
       "    <tr>\n",
       "      <th>1</th>\n",
       "      <td>72399</td>\n",
       "      <td>1</td>\n",
       "      <td>2020-04-15 23:22:59</td>\n",
       "      <td>2</td>\n",
       "      <td>15</td>\n",
       "      <td>[deep-learning, keras, cnn]</td>\n",
       "      <td>1</td>\n",
       "      <td>0</td>\n",
       "    </tr>\n",
       "    <tr>\n",
       "      <th>2</th>\n",
       "      <td>72401</td>\n",
       "      <td>1</td>\n",
       "      <td>2020-04-15 23:39:00</td>\n",
       "      <td>0</td>\n",
       "      <td>47</td>\n",
       "      <td>[python, matplotlib, seaborn]</td>\n",
       "      <td>0</td>\n",
       "      <td>0</td>\n",
       "    </tr>\n",
       "    <tr>\n",
       "      <th>3</th>\n",
       "      <td>72402</td>\n",
       "      <td>1</td>\n",
       "      <td>2020-04-15 23:57:23</td>\n",
       "      <td>0</td>\n",
       "      <td>64</td>\n",
       "      <td>[python, pandas, numpy]</td>\n",
       "      <td>0</td>\n",
       "      <td>0</td>\n",
       "    </tr>\n",
       "    <tr>\n",
       "      <th>4</th>\n",
       "      <td>72404</td>\n",
       "      <td>1</td>\n",
       "      <td>2020-04-16 01:17:31</td>\n",
       "      <td>0</td>\n",
       "      <td>6</td>\n",
       "      <td>[autoencoder]</td>\n",
       "      <td>0</td>\n",
       "      <td>0</td>\n",
       "    </tr>\n",
       "  </tbody>\n",
       "</table>\n",
       "</div>"
      ],
      "text/plain": [
       "      Id  PostTypeId        CreationDate  Score  ViewCount  \\\n",
       "0  72398           1 2020-04-15 22:28:18      0          7   \n",
       "1  72399           1 2020-04-15 23:22:59      2         15   \n",
       "2  72401           1 2020-04-15 23:39:00      0         47   \n",
       "3  72402           1 2020-04-15 23:57:23      0         64   \n",
       "4  72404           1 2020-04-16 01:17:31      0          6   \n",
       "\n",
       "                            Tags  AnswerCount  FavoriteCount  \n",
       "0                          [aws]            0              0  \n",
       "1    [deep-learning, keras, cnn]            1              0  \n",
       "2  [python, matplotlib, seaborn]            0              0  \n",
       "3        [python, pandas, numpy]            0              0  \n",
       "4                  [autoencoder]            0              0  "
      ]
     },
     "execution_count": 3,
     "metadata": {},
     "output_type": "execute_result"
    }
   ],
   "source": [
    "# Fill missing values with zeros\n",
    "questions.fillna(0, inplace=True)\n",
    "questions['FavoriteCount'] = questions['FavoriteCount'].astype(int)\n",
    "\n",
    "# Transform strings in Tags\n",
    "questions['Tags'] = questions['Tags'].str.strip('<>').str.split('><')\n",
    "\n",
    "questions.head()"
   ]
  },
  {
   "cell_type": "markdown",
   "metadata": {},
   "source": [
    "## Most Used and Most Viewed"
   ]
  },
  {
   "cell_type": "markdown",
   "metadata": {},
   "source": [
    "We now focus on determining the most popular tags by considering two different popularity proxies: for each tag we'll count how many times the tag was used, and how many times a question with that tag was viewed."
   ]
  },
  {
   "cell_type": "code",
   "execution_count": 4,
   "metadata": {},
   "outputs": [],
   "source": [
    "# Create a dictionary with the number of uses and views for each tag\n",
    "tags = {}\n",
    "for index, row in questions.iterrows():\n",
    "    for tag in row['Tags']:\n",
    "        if tag in tags:\n",
    "            tags[tag][0] += 1\n",
    "            tags[tag][1] += row['ViewCount']\n",
    "        else:\n",
    "            tags[tag] = [1, row['ViewCount']]       "
   ]
  },
  {
   "cell_type": "code",
   "execution_count": 5,
   "metadata": {},
   "outputs": [
    {
     "data": {
      "text/html": [
       "<div>\n",
       "<style scoped>\n",
       "    .dataframe tbody tr th:only-of-type {\n",
       "        vertical-align: middle;\n",
       "    }\n",
       "\n",
       "    .dataframe tbody tr th {\n",
       "        vertical-align: top;\n",
       "    }\n",
       "\n",
       "    .dataframe thead th {\n",
       "        text-align: right;\n",
       "    }\n",
       "</style>\n",
       "<table border=\"1\" class=\"dataframe\">\n",
       "  <thead>\n",
       "    <tr style=\"text-align: right;\">\n",
       "      <th></th>\n",
       "      <th>Used</th>\n",
       "      <th>Viewed</th>\n",
       "    </tr>\n",
       "  </thead>\n",
       "  <tbody>\n",
       "    <tr>\n",
       "      <th>aws</th>\n",
       "      <td>21</td>\n",
       "      <td>3487</td>\n",
       "    </tr>\n",
       "    <tr>\n",
       "      <th>deep-learning</th>\n",
       "      <td>1828</td>\n",
       "      <td>574431</td>\n",
       "    </tr>\n",
       "    <tr>\n",
       "      <th>keras</th>\n",
       "      <td>1365</td>\n",
       "      <td>688666</td>\n",
       "    </tr>\n",
       "    <tr>\n",
       "      <th>cnn</th>\n",
       "      <td>707</td>\n",
       "      <td>195290</td>\n",
       "    </tr>\n",
       "    <tr>\n",
       "      <th>python</th>\n",
       "      <td>2768</td>\n",
       "      <td>1516471</td>\n",
       "    </tr>\n",
       "  </tbody>\n",
       "</table>\n",
       "</div>"
      ],
      "text/plain": [
       "               Used   Viewed\n",
       "aws              21     3487\n",
       "deep-learning  1828   574431\n",
       "keras          1365   688666\n",
       "cnn             707   195290\n",
       "python         2768  1516471"
      ]
     },
     "execution_count": 5,
     "metadata": {},
     "output_type": "execute_result"
    }
   ],
   "source": [
    "# Create a dataframe for tag info\n",
    "tag_count = pd.DataFrame(tags).transpose()\n",
    "tag_count.columns=['Used', 'Viewed']\n",
    "tag_count.head()"
   ]
  },
  {
   "cell_type": "code",
   "execution_count": 6,
   "metadata": {},
   "outputs": [
    {
     "data": {
      "text/html": [
       "<div>\n",
       "<style scoped>\n",
       "    .dataframe tbody tr th:only-of-type {\n",
       "        vertical-align: middle;\n",
       "    }\n",
       "\n",
       "    .dataframe tbody tr th {\n",
       "        vertical-align: top;\n",
       "    }\n",
       "\n",
       "    .dataframe thead th {\n",
       "        text-align: right;\n",
       "    }\n",
       "</style>\n",
       "<table border=\"1\" class=\"dataframe\">\n",
       "  <thead>\n",
       "    <tr style=\"text-align: right;\">\n",
       "      <th></th>\n",
       "      <th>Used</th>\n",
       "    </tr>\n",
       "  </thead>\n",
       "  <tbody>\n",
       "    <tr>\n",
       "      <th>machine-learning</th>\n",
       "      <td>4050</td>\n",
       "    </tr>\n",
       "    <tr>\n",
       "      <th>python</th>\n",
       "      <td>2768</td>\n",
       "    </tr>\n",
       "    <tr>\n",
       "      <th>deep-learning</th>\n",
       "      <td>1828</td>\n",
       "    </tr>\n",
       "    <tr>\n",
       "      <th>neural-network</th>\n",
       "      <td>1591</td>\n",
       "    </tr>\n",
       "    <tr>\n",
       "      <th>keras</th>\n",
       "      <td>1365</td>\n",
       "    </tr>\n",
       "    <tr>\n",
       "      <th>classification</th>\n",
       "      <td>1090</td>\n",
       "    </tr>\n",
       "    <tr>\n",
       "      <th>tensorflow</th>\n",
       "      <td>950</td>\n",
       "    </tr>\n",
       "    <tr>\n",
       "      <th>scikit-learn</th>\n",
       "      <td>870</td>\n",
       "    </tr>\n",
       "    <tr>\n",
       "      <th>nlp</th>\n",
       "      <td>836</td>\n",
       "    </tr>\n",
       "    <tr>\n",
       "      <th>cnn</th>\n",
       "      <td>707</td>\n",
       "    </tr>\n",
       "  </tbody>\n",
       "</table>\n",
       "</div>"
      ],
      "text/plain": [
       "                  Used\n",
       "machine-learning  4050\n",
       "python            2768\n",
       "deep-learning     1828\n",
       "neural-network    1591\n",
       "keras             1365\n",
       "classification    1090\n",
       "tensorflow         950\n",
       "scikit-learn       870\n",
       "nlp                836\n",
       "cnn                707"
      ]
     },
     "execution_count": 6,
     "metadata": {},
     "output_type": "execute_result"
    }
   ],
   "source": [
    "# Top 10 used tags\n",
    "most_used = tag_count.sort_values('Used', ascending=False)[['Used']][:10]\n",
    "most_used"
   ]
  },
  {
   "cell_type": "code",
   "execution_count": 7,
   "metadata": {
    "scrolled": true
   },
   "outputs": [
    {
     "data": {
      "text/html": [
       "<div>\n",
       "<style scoped>\n",
       "    .dataframe tbody tr th:only-of-type {\n",
       "        vertical-align: middle;\n",
       "    }\n",
       "\n",
       "    .dataframe tbody tr th {\n",
       "        vertical-align: top;\n",
       "    }\n",
       "\n",
       "    .dataframe thead th {\n",
       "        text-align: right;\n",
       "    }\n",
       "</style>\n",
       "<table border=\"1\" class=\"dataframe\">\n",
       "  <thead>\n",
       "    <tr style=\"text-align: right;\">\n",
       "      <th></th>\n",
       "      <th>Viewed</th>\n",
       "    </tr>\n",
       "  </thead>\n",
       "  <tbody>\n",
       "    <tr>\n",
       "      <th>python</th>\n",
       "      <td>1516471</td>\n",
       "    </tr>\n",
       "    <tr>\n",
       "      <th>machine-learning</th>\n",
       "      <td>1022441</td>\n",
       "    </tr>\n",
       "    <tr>\n",
       "      <th>keras</th>\n",
       "      <td>688666</td>\n",
       "    </tr>\n",
       "    <tr>\n",
       "      <th>pandas</th>\n",
       "      <td>670514</td>\n",
       "    </tr>\n",
       "    <tr>\n",
       "      <th>deep-learning</th>\n",
       "      <td>574431</td>\n",
       "    </tr>\n",
       "    <tr>\n",
       "      <th>neural-network</th>\n",
       "      <td>480541</td>\n",
       "    </tr>\n",
       "    <tr>\n",
       "      <th>scikit-learn</th>\n",
       "      <td>363262</td>\n",
       "    </tr>\n",
       "    <tr>\n",
       "      <th>tensorflow</th>\n",
       "      <td>348763</td>\n",
       "    </tr>\n",
       "    <tr>\n",
       "      <th>classification</th>\n",
       "      <td>275407</td>\n",
       "    </tr>\n",
       "    <tr>\n",
       "      <th>dataframe</th>\n",
       "      <td>255882</td>\n",
       "    </tr>\n",
       "  </tbody>\n",
       "</table>\n",
       "</div>"
      ],
      "text/plain": [
       "                   Viewed\n",
       "python            1516471\n",
       "machine-learning  1022441\n",
       "keras              688666\n",
       "pandas             670514\n",
       "deep-learning      574431\n",
       "neural-network     480541\n",
       "scikit-learn       363262\n",
       "tensorflow         348763\n",
       "classification     275407\n",
       "dataframe          255882"
      ]
     },
     "execution_count": 7,
     "metadata": {},
     "output_type": "execute_result"
    }
   ],
   "source": [
    "# Top 10 viewed tags\n",
    "most_viewed = tag_count.sort_values('Viewed', ascending=False)[['Viewed']][:10]\n",
    "most_viewed"
   ]
  },
  {
   "cell_type": "markdown",
   "metadata": {},
   "source": [
    "Let's visualize the lists side-by-side:"
   ]
  },
  {
   "cell_type": "code",
   "execution_count": 8,
   "metadata": {},
   "outputs": [
    {
     "data": {
      "text/plain": [
       "array([<matplotlib.axes._subplots.AxesSubplot object at 0x0000024A74BDACC8>],\n",
       "      dtype=object)"
      ]
     },
     "execution_count": 8,
     "metadata": {},
     "output_type": "execute_result"
    },
    {
     "data": {
      "image/png": "[encoded data removed]",
      "text/plain": [
       "<Figure size 1728x720 with 2 Axes>"
      ]
     },
     "metadata": {
      "needs_background": "light"
     },
     "output_type": "display_data"
    }
   ],
   "source": [
    "import matplotlib.pyplot as plt\n",
    "import seaborn as sns\n",
    "%matplotlib inline\n",
    "\n",
    "fig, axes = plt.subplots(nrows=1, ncols=2)\n",
    "fig.set_size_inches((24, 10))\n",
    "most_used.sort_values('Used').plot(kind='barh', ax=axes[0], subplots=True)\n",
    "most_viewed.sort_values('Viewed').plot(kind='barh', ax=axes[1], subplots=True)"
   ]
  },
  {
   "cell_type": "markdown",
   "metadata": {},
   "source": [
    "We notice that the most used tags are also the most viewed. From the top 10 tags of each, here's a list of the tags in common: *python*, *machine-learning*, *deep-learning*, *neural-network*, *keras*, *tensorflow*, *classification*, *scikit-learn*.\n",
    "Most of the top tags are all intimately related with one central machine learning theme: Deep Learning."
   ]
  },
  {
   "cell_type": "markdown",
   "metadata": {},
   "source": [
    "## Is Deep Learning just a fad?"
   ]
  },
  {
   "cell_type": "markdown",
   "metadata": {},
   "source": [
    "To answer this question, we'll find out:\n",
    " - How many deep learning questions are asked per time period\n",
    " - The total amount of questions per time period\n",
    " - How many deep learning questions there are relative to the total amount of questions per time period\n",
    " \n",
    "First, we need to go back to the DSSE and extract all the questions ever asked, with their dates and tags:\n",
    "\n",
    "    SELECT Id, CreationDate, Tags\n",
    "      FROM posts\n",
    "     WHERE PostTypeId = 1;\n",
    "     \n",
    "The data is saved as *'all_questions.csv'*."
   ]
  },
  {
   "cell_type": "code",
   "execution_count": 9,
   "metadata": {},
   "outputs": [
    {
     "data": {
      "text/html": [
       "<div>\n",
       "<style scoped>\n",
       "    .dataframe tbody tr th:only-of-type {\n",
       "        vertical-align: middle;\n",
       "    }\n",
       "\n",
       "    .dataframe tbody tr th {\n",
       "        vertical-align: top;\n",
       "    }\n",
       "\n",
       "    .dataframe thead th {\n",
       "        text-align: right;\n",
       "    }\n",
       "</style>\n",
       "<table border=\"1\" class=\"dataframe\">\n",
       "  <thead>\n",
       "    <tr style=\"text-align: right;\">\n",
       "      <th></th>\n",
       "      <th>Id</th>\n",
       "      <th>CreationDate</th>\n",
       "      <th>Tags</th>\n",
       "    </tr>\n",
       "  </thead>\n",
       "  <tbody>\n",
       "    <tr>\n",
       "      <th>0</th>\n",
       "      <td>14352</td>\n",
       "      <td>2016-10-04 13:13:15</td>\n",
       "      <td>[neural-network, deep-learning]</td>\n",
       "    </tr>\n",
       "    <tr>\n",
       "      <th>1</th>\n",
       "      <td>14355</td>\n",
       "      <td>2016-10-04 13:54:26</td>\n",
       "      <td>[python, scikit-learn, k-means]</td>\n",
       "    </tr>\n",
       "    <tr>\n",
       "      <th>2</th>\n",
       "      <td>14356</td>\n",
       "      <td>2016-10-04 14:32:19</td>\n",
       "      <td>[classification, correlation, binary]</td>\n",
       "    </tr>\n",
       "    <tr>\n",
       "      <th>3</th>\n",
       "      <td>14368</td>\n",
       "      <td>2016-10-05 03:52:38</td>\n",
       "      <td>[performance, library, gpu]</td>\n",
       "    </tr>\n",
       "    <tr>\n",
       "      <th>4</th>\n",
       "      <td>14369</td>\n",
       "      <td>2016-10-05 04:46:00</td>\n",
       "      <td>[machine-learning, classification, statistics,...</td>\n",
       "    </tr>\n",
       "  </tbody>\n",
       "</table>\n",
       "</div>"
      ],
      "text/plain": [
       "      Id        CreationDate  \\\n",
       "0  14352 2016-10-04 13:13:15   \n",
       "1  14355 2016-10-04 13:54:26   \n",
       "2  14356 2016-10-04 14:32:19   \n",
       "3  14368 2016-10-05 03:52:38   \n",
       "4  14369 2016-10-05 04:46:00   \n",
       "\n",
       "                                                Tags  \n",
       "0                    [neural-network, deep-learning]  \n",
       "1                    [python, scikit-learn, k-means]  \n",
       "2              [classification, correlation, binary]  \n",
       "3                        [performance, library, gpu]  \n",
       "4  [machine-learning, classification, statistics,...  "
      ]
     },
     "execution_count": 9,
     "metadata": {},
     "output_type": "execute_result"
    }
   ],
   "source": [
    "# Repeat the initial steps\n",
    "all_questions = pd.read_csv('all_questions.csv', parse_dates=['CreationDate'])\n",
    "all_questions['Tags'] = all_questions['Tags'].str.strip('<>').str.split('><')\n",
    "all_questions.head()"
   ]
  },
  {
   "cell_type": "code",
   "execution_count": 10,
   "metadata": {},
   "outputs": [
    {
     "data": {
      "text/html": [
       "<div>\n",
       "<style scoped>\n",
       "    .dataframe tbody tr th:only-of-type {\n",
       "        vertical-align: middle;\n",
       "    }\n",
       "\n",
       "    .dataframe tbody tr th {\n",
       "        vertical-align: top;\n",
       "    }\n",
       "\n",
       "    .dataframe thead th {\n",
       "        text-align: right;\n",
       "    }\n",
       "</style>\n",
       "<table border=\"1\" class=\"dataframe\">\n",
       "  <thead>\n",
       "    <tr style=\"text-align: right;\">\n",
       "      <th></th>\n",
       "      <th>Id</th>\n",
       "      <th>CreationDate</th>\n",
       "      <th>Tags</th>\n",
       "      <th>DeepLearning</th>\n",
       "    </tr>\n",
       "  </thead>\n",
       "  <tbody>\n",
       "    <tr>\n",
       "      <th>15903</th>\n",
       "      <td>20186</td>\n",
       "      <td>2017-07-05 12:06:00</td>\n",
       "      <td>[bigdata, nosql, json]</td>\n",
       "      <td>0</td>\n",
       "    </tr>\n",
       "    <tr>\n",
       "      <th>19977</th>\n",
       "      <td>22863</td>\n",
       "      <td>2017-09-06 04:18:58</td>\n",
       "      <td>[anomaly-detection]</td>\n",
       "      <td>0</td>\n",
       "    </tr>\n",
       "    <tr>\n",
       "      <th>7270</th>\n",
       "      <td>55928</td>\n",
       "      <td>2019-07-18 14:42:28</td>\n",
       "      <td>[python, scikit-learn, categorical-data, encod...</td>\n",
       "      <td>1</td>\n",
       "    </tr>\n",
       "    <tr>\n",
       "      <th>10576</th>\n",
       "      <td>46705</td>\n",
       "      <td>2019-03-05 13:58:54</td>\n",
       "      <td>[machine-learning, python, feature-extraction]</td>\n",
       "      <td>0</td>\n",
       "    </tr>\n",
       "    <tr>\n",
       "      <th>19723</th>\n",
       "      <td>50967</td>\n",
       "      <td>2019-04-26 08:46:11</td>\n",
       "      <td>[cross-validation, overfitting]</td>\n",
       "      <td>0</td>\n",
       "    </tr>\n",
       "  </tbody>\n",
       "</table>\n",
       "</div>"
      ],
      "text/plain": [
       "          Id        CreationDate  \\\n",
       "15903  20186 2017-07-05 12:06:00   \n",
       "19977  22863 2017-09-06 04:18:58   \n",
       "7270   55928 2019-07-18 14:42:28   \n",
       "10576  46705 2019-03-05 13:58:54   \n",
       "19723  50967 2019-04-26 08:46:11   \n",
       "\n",
       "                                                    Tags  DeepLearning  \n",
       "15903                             [bigdata, nosql, json]             0  \n",
       "19977                                [anomaly-detection]             0  \n",
       "7270   [python, scikit-learn, categorical-data, encod...             1  \n",
       "10576     [machine-learning, python, feature-extraction]             0  \n",
       "19723                    [cross-validation, overfitting]             0  "
      ]
     },
     "execution_count": 10,
     "metadata": {},
     "output_type": "execute_result"
    }
   ],
   "source": [
    "# Define which tags are related to Deep Learning\n",
    "dl_tags = [\"lstm\", \"cnn\", \"scikit-learn\", \"tensorflow\", \"keras\", \"neural-network\", \"deep-learning\"]\n",
    "\n",
    "# Create a categorization column\n",
    "def dl_related(list):\n",
    "    for tag in list:\n",
    "        if tag in dl_tags:\n",
    "            return 1\n",
    "    return 0\n",
    "\n",
    "all_questions['DeepLearning'] = all_questions['Tags'].apply(dl_related)\n",
    "all_questions.sample(5)"
   ]
  },
  {
   "cell_type": "markdown",
   "metadata": {},
   "source": [
    "We'll aggregate the numbers by quarter, starting at Q3 of 2014 and ending at Q3 of 2020."
   ]
  },
  {
   "cell_type": "code",
   "execution_count": 11,
   "metadata": {},
   "outputs": [],
   "source": [
    "# Remove out-of-scope data\n",
    "import datetime as dt\n",
    "all_questions = all_questions[(all_questions['CreationDate'] >= dt.datetime.strptime('2014-07-01', '%Y-%m-%d')) & (all_questions['CreationDate'] < dt.datetime.strptime('2020-10-01', '%Y-%m-%d'))]"
   ]
  },
  {
   "cell_type": "code",
   "execution_count": 12,
   "metadata": {
    "scrolled": true
   },
   "outputs": [
    {
     "data": {
      "text/html": [
       "<div>\n",
       "<style scoped>\n",
       "    .dataframe tbody tr th:only-of-type {\n",
       "        vertical-align: middle;\n",
       "    }\n",
       "\n",
       "    .dataframe tbody tr th {\n",
       "        vertical-align: top;\n",
       "    }\n",
       "\n",
       "    .dataframe thead th {\n",
       "        text-align: right;\n",
       "    }\n",
       "</style>\n",
       "<table border=\"1\" class=\"dataframe\">\n",
       "  <thead>\n",
       "    <tr style=\"text-align: right;\">\n",
       "      <th></th>\n",
       "      <th>Id</th>\n",
       "      <th>CreationDate</th>\n",
       "      <th>Tags</th>\n",
       "      <th>DeepLearning</th>\n",
       "      <th>Quarter</th>\n",
       "    </tr>\n",
       "  </thead>\n",
       "  <tbody>\n",
       "    <tr>\n",
       "      <th>0</th>\n",
       "      <td>14352</td>\n",
       "      <td>2016-10-04 13:13:15</td>\n",
       "      <td>[neural-network, deep-learning]</td>\n",
       "      <td>1</td>\n",
       "      <td>2016Q4</td>\n",
       "    </tr>\n",
       "    <tr>\n",
       "      <th>1</th>\n",
       "      <td>14355</td>\n",
       "      <td>2016-10-04 13:54:26</td>\n",
       "      <td>[python, scikit-learn, k-means]</td>\n",
       "      <td>1</td>\n",
       "      <td>2016Q4</td>\n",
       "    </tr>\n",
       "    <tr>\n",
       "      <th>2</th>\n",
       "      <td>14356</td>\n",
       "      <td>2016-10-04 14:32:19</td>\n",
       "      <td>[classification, correlation, binary]</td>\n",
       "      <td>0</td>\n",
       "      <td>2016Q4</td>\n",
       "    </tr>\n",
       "    <tr>\n",
       "      <th>3</th>\n",
       "      <td>14368</td>\n",
       "      <td>2016-10-05 03:52:38</td>\n",
       "      <td>[performance, library, gpu]</td>\n",
       "      <td>0</td>\n",
       "      <td>2016Q4</td>\n",
       "    </tr>\n",
       "    <tr>\n",
       "      <th>4</th>\n",
       "      <td>14369</td>\n",
       "      <td>2016-10-05 04:46:00</td>\n",
       "      <td>[machine-learning, classification, statistics,...</td>\n",
       "      <td>0</td>\n",
       "      <td>2016Q4</td>\n",
       "    </tr>\n",
       "  </tbody>\n",
       "</table>\n",
       "</div>"
      ],
      "text/plain": [
       "      Id        CreationDate  \\\n",
       "0  14352 2016-10-04 13:13:15   \n",
       "1  14355 2016-10-04 13:54:26   \n",
       "2  14356 2016-10-04 14:32:19   \n",
       "3  14368 2016-10-05 03:52:38   \n",
       "4  14369 2016-10-05 04:46:00   \n",
       "\n",
       "                                                Tags  DeepLearning Quarter  \n",
       "0                    [neural-network, deep-learning]             1  2016Q4  \n",
       "1                    [python, scikit-learn, k-means]             1  2016Q4  \n",
       "2              [classification, correlation, binary]             0  2016Q4  \n",
       "3                        [performance, library, gpu]             0  2016Q4  \n",
       "4  [machine-learning, classification, statistics,...             0  2016Q4  "
      ]
     },
     "execution_count": 12,
     "metadata": {},
     "output_type": "execute_result"
    }
   ],
   "source": [
    "# Create quarter numbers\n",
    "all_questions['Quarter'] = all_questions['CreationDate'].dt.year.astype(str) + 'Q' + all_questions['CreationDate'].dt.quarter.astype(str)\n",
    "all_questions.head()"
   ]
  },
  {
   "cell_type": "code",
   "execution_count": 24,
   "metadata": {},
   "outputs": [
    {
     "data": {
      "text/html": [
       "<div>\n",
       "<style scoped>\n",
       "    .dataframe tbody tr th:only-of-type {\n",
       "        vertical-align: middle;\n",
       "    }\n",
       "\n",
       "    .dataframe tbody tr th {\n",
       "        vertical-align: top;\n",
       "    }\n",
       "\n",
       "    .dataframe thead th {\n",
       "        text-align: right;\n",
       "    }\n",
       "</style>\n",
       "<table border=\"1\" class=\"dataframe\">\n",
       "  <thead>\n",
       "    <tr style=\"text-align: right;\">\n",
       "      <th></th>\n",
       "      <th>Quarter</th>\n",
       "      <th>Total_Questions</th>\n",
       "      <th>DL_Questions</th>\n",
       "      <th>DL_Rate</th>\n",
       "    </tr>\n",
       "  </thead>\n",
       "  <tbody>\n",
       "    <tr>\n",
       "      <th>0</th>\n",
       "      <td>2014Q3</td>\n",
       "      <td>188</td>\n",
       "      <td>13</td>\n",
       "      <td>0.069149</td>\n",
       "    </tr>\n",
       "    <tr>\n",
       "      <th>1</th>\n",
       "      <td>2014Q4</td>\n",
       "      <td>214</td>\n",
       "      <td>21</td>\n",
       "      <td>0.098131</td>\n",
       "    </tr>\n",
       "    <tr>\n",
       "      <th>2</th>\n",
       "      <td>2015Q1</td>\n",
       "      <td>190</td>\n",
       "      <td>18</td>\n",
       "      <td>0.094737</td>\n",
       "    </tr>\n",
       "    <tr>\n",
       "      <th>3</th>\n",
       "      <td>2015Q2</td>\n",
       "      <td>284</td>\n",
       "      <td>28</td>\n",
       "      <td>0.098592</td>\n",
       "    </tr>\n",
       "    <tr>\n",
       "      <th>4</th>\n",
       "      <td>2015Q3</td>\n",
       "      <td>311</td>\n",
       "      <td>45</td>\n",
       "      <td>0.144695</td>\n",
       "    </tr>\n",
       "  </tbody>\n",
       "</table>\n",
       "</div>"
      ],
      "text/plain": [
       "  Quarter  Total_Questions  DL_Questions   DL_Rate\n",
       "0  2014Q3              188            13  0.069149\n",
       "1  2014Q4              214            21  0.098131\n",
       "2  2015Q1              190            18  0.094737\n",
       "3  2015Q2              284            28  0.098592\n",
       "4  2015Q3              311            45  0.144695"
      ]
     },
     "execution_count": 24,
     "metadata": {},
     "output_type": "execute_result"
    }
   ],
   "source": [
    "# Calculate DeepLearning-related question rates\n",
    "quarter_stats = all_questions.groupby('Quarter').agg({'Id': 'size', 'DeepLearning': 'sum'})\n",
    "quarter_stats.columns = ['Total_Questions', 'DL_Questions']\n",
    "quarter_stats['DL_Rate'] = quarter_stats['DL_Questions'] / quarter_stats['Total_Questions']\n",
    "quarter_stats.reset_index(inplace=True)\n",
    "quarter_stats.head()"
   ]
  },
  {
   "cell_type": "code",
   "execution_count": 58,
   "metadata": {
    "scrolled": false
   },
   "outputs": [
    {
     "data": {
      "text/plain": [
       "<matplotlib.legend.Legend at 0x24a013d7808>"
      ]
     },
     "execution_count": 58,
     "metadata": {},
     "output_type": "execute_result"
    },
    {
     "data": {
      "image/png": "[encoded data removed]",
      "text/plain": [
       "<Figure size 1728x864 with 2 Axes>"
      ]
     },
     "metadata": {
      "needs_background": "light"
     },
     "output_type": "display_data"
    }
   ],
   "source": [
    "# Visualize the result\n",
    "fig, ax1 = plt.subplots(figsize=(24, 12))\n",
    "sns.barplot(x='Quarter', y='Total_Questions', data=quarter_stats, color='blue')\n",
    "ax1.set_ylabel('Total Questions', fontsize=18, color='blue')\n",
    "plt.legend(labels=['Total Questions'], loc='upper left')\n",
    "ax1.set_xlabel('Quarter', fontsize=18)\n",
    "\n",
    "ax2 = ax1.twinx()\n",
    "sns.lineplot(x='Quarter', y='DL_Rate', data=quarter_stats, color='red')\n",
    "ax2.set_ylabel('DeepLearning Percentage', fontsize=18, color='red')\n",
    "plt.legend(labels=['DL_Rate'])"
   ]
  },
  {
   "cell_type": "markdown",
   "metadata": {},
   "source": [
    "It seems that Deep Learning questions was a high-growth trend since the start of DSSE and it looks like it is plateauing."
   ]
  }
 ],
 "metadata": {
  "kernelspec": {
   "display_name": "Python 3",
   "language": "python",
   "name": "python3"
  },
  "language_info": {
   "codemirror_mode": {
    "name": "ipython",
    "version": 3
   },
   "file_extension": ".py",
   "mimetype": "text/x-python",
   "name": "python",
   "nbconvert_exporter": "python",
   "pygments_lexer": "ipython3",
   "version": "3.7.6"
  }
 },
 "nbformat": 4,
 "nbformat_minor": 4
}
