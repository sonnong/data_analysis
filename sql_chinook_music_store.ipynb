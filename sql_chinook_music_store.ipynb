{
 "cells": [
  {
   "cell_type": "markdown",
   "metadata": {
    "collapsed": true
   },
   "source": [
    "# Chinook Digital Music Shop"
   ]
  },
  {
   "cell_type": "markdown",
   "metadata": {},
   "source": [
    "In this project, we'll be working on the [Chinook database](https://github.com/lerocha/chinook-database) and using SQL to extract data and answer some business questions.\n",
    "\n",
    "The database is provided as a SQLite database called *chinook.db*. It contains information about the artists, songs, and albums, as well as information on the shop's employees, customers, and the customers purchases."
   ]
  },
  {
   "cell_type": "code",
   "execution_count": 1,
   "metadata": {
    "collapsed": false
   },
   "outputs": [
    {
     "data": {
      "text/plain": [
       "'Connected: None@chinook.db'"
      ]
     },
     "execution_count": 1,
     "metadata": {},
     "output_type": "execute_result"
    }
   ],
   "source": [
    "%%capture\n",
    "%load_ext sql\n",
    "%sql sqlite:///chinook.db"
   ]
  },
  {
   "cell_type": "markdown",
   "metadata": {},
   "source": [
    "## Data overview"
   ]
  },
  {
   "cell_type": "code",
   "execution_count": 2,
   "metadata": {
    "collapsed": false
   },
   "outputs": [
    {
     "name": "stdout",
     "output_type": "stream",
     "text": [
      "Done.\n"
     ]
    },
    {
     "data": {
      "text/html": [
       "<table>\n",
       "    <tr>\n",
       "        <th>name</th>\n",
       "        <th>type</th>\n",
       "    </tr>\n",
       "    <tr>\n",
       "        <td>album</td>\n",
       "        <td>table</td>\n",
       "    </tr>\n",
       "    <tr>\n",
       "        <td>artist</td>\n",
       "        <td>table</td>\n",
       "    </tr>\n",
       "    <tr>\n",
       "        <td>customer</td>\n",
       "        <td>table</td>\n",
       "    </tr>\n",
       "    <tr>\n",
       "        <td>employee</td>\n",
       "        <td>table</td>\n",
       "    </tr>\n",
       "    <tr>\n",
       "        <td>genre</td>\n",
       "        <td>table</td>\n",
       "    </tr>\n",
       "    <tr>\n",
       "        <td>invoice</td>\n",
       "        <td>table</td>\n",
       "    </tr>\n",
       "    <tr>\n",
       "        <td>invoice_line</td>\n",
       "        <td>table</td>\n",
       "    </tr>\n",
       "    <tr>\n",
       "        <td>media_type</td>\n",
       "        <td>table</td>\n",
       "    </tr>\n",
       "    <tr>\n",
       "        <td>playlist</td>\n",
       "        <td>table</td>\n",
       "    </tr>\n",
       "    <tr>\n",
       "        <td>playlist_track</td>\n",
       "        <td>table</td>\n",
       "    </tr>\n",
       "    <tr>\n",
       "        <td>track</td>\n",
       "        <td>table</td>\n",
       "    </tr>\n",
       "</table>"
      ],
      "text/plain": [
       "[('album', 'table'),\n",
       " ('artist', 'table'),\n",
       " ('customer', 'table'),\n",
       " ('employee', 'table'),\n",
       " ('genre', 'table'),\n",
       " ('invoice', 'table'),\n",
       " ('invoice_line', 'table'),\n",
       " ('media_type', 'table'),\n",
       " ('playlist', 'table'),\n",
       " ('playlist_track', 'table'),\n",
       " ('track', 'table')]"
      ]
     },
     "execution_count": 2,
     "metadata": {},
     "output_type": "execute_result"
    }
   ],
   "source": [
    "%%sql\n",
    "SELECT name, type\n",
    "  FROM sqlite_master\n",
    " WHERE type IN ('table', 'view');"
   ]
  },
  {
   "cell_type": "markdown",
   "metadata": {},
   "source": [
    "Below is a schema diagram of the database:"
   ]
  },
  {
   "cell_type": "markdown",
   "metadata": {},
   "source": [
    "![Database schema diagram](https://s3.amazonaws.com/dq-content/189/chinook-schema.svg)"
   ]
  },
  {
   "cell_type": "markdown",
   "metadata": {},
   "source": [
    "## Selecting Albums to Purchase"
   ]
  },
  {
   "cell_type": "markdown",
   "metadata": {},
   "source": [
    "The Chinook store has just signed a deal with a new record label, and our task is selecting the first three albums that will be added to the store, from a list of four.\n",
    "\n",
    "| Artist Name | Genre   |\n",
    "| ----------- | ------- |\n",
    "| Regal       | Hip-Hop |\n",
    "| Red Tone    | Punk    |\n",
    "| Meteor and the Girls | Pop |\n",
    "| Slim Jim Bites | Blues |\n",
    "\n",
    "The record label specializes in artists from the USA, so we're interested in finding out which genres sell the best (sell the most tracks) in the USA."
   ]
  },
  {
   "cell_type": "code",
   "execution_count": 3,
   "metadata": {
    "collapsed": false
   },
   "outputs": [
    {
     "name": "stdout",
     "output_type": "stream",
     "text": [
      "Done.\n"
     ]
    },
    {
     "data": {
      "text/html": [
       "<table>\n",
       "    <tr>\n",
       "        <th>genre</th>\n",
       "        <th>tracks_sold</th>\n",
       "        <th>percentage</th>\n",
       "    </tr>\n",
       "    <tr>\n",
       "        <td>Rock</td>\n",
       "        <td>561</td>\n",
       "        <td>53.38</td>\n",
       "    </tr>\n",
       "    <tr>\n",
       "        <td>Alternative &amp; Punk</td>\n",
       "        <td>130</td>\n",
       "        <td>12.37</td>\n",
       "    </tr>\n",
       "    <tr>\n",
       "        <td>Metal</td>\n",
       "        <td>124</td>\n",
       "        <td>11.8</td>\n",
       "    </tr>\n",
       "    <tr>\n",
       "        <td>R&amp;B/Soul</td>\n",
       "        <td>53</td>\n",
       "        <td>5.04</td>\n",
       "    </tr>\n",
       "    <tr>\n",
       "        <td>Blues</td>\n",
       "        <td>36</td>\n",
       "        <td>3.43</td>\n",
       "    </tr>\n",
       "    <tr>\n",
       "        <td>Alternative</td>\n",
       "        <td>35</td>\n",
       "        <td>3.33</td>\n",
       "    </tr>\n",
       "    <tr>\n",
       "        <td>Latin</td>\n",
       "        <td>22</td>\n",
       "        <td>2.09</td>\n",
       "    </tr>\n",
       "    <tr>\n",
       "        <td>Pop</td>\n",
       "        <td>22</td>\n",
       "        <td>2.09</td>\n",
       "    </tr>\n",
       "    <tr>\n",
       "        <td>Hip Hop/Rap</td>\n",
       "        <td>20</td>\n",
       "        <td>1.9</td>\n",
       "    </tr>\n",
       "    <tr>\n",
       "        <td>Jazz</td>\n",
       "        <td>14</td>\n",
       "        <td>1.33</td>\n",
       "    </tr>\n",
       "    <tr>\n",
       "        <td>Easy Listening</td>\n",
       "        <td>13</td>\n",
       "        <td>1.24</td>\n",
       "    </tr>\n",
       "    <tr>\n",
       "        <td>Reggae</td>\n",
       "        <td>6</td>\n",
       "        <td>0.57</td>\n",
       "    </tr>\n",
       "    <tr>\n",
       "        <td>Electronica/Dance</td>\n",
       "        <td>5</td>\n",
       "        <td>0.48</td>\n",
       "    </tr>\n",
       "    <tr>\n",
       "        <td>Classical</td>\n",
       "        <td>4</td>\n",
       "        <td>0.38</td>\n",
       "    </tr>\n",
       "    <tr>\n",
       "        <td>Heavy Metal</td>\n",
       "        <td>3</td>\n",
       "        <td>0.29</td>\n",
       "    </tr>\n",
       "    <tr>\n",
       "        <td>Soundtrack</td>\n",
       "        <td>2</td>\n",
       "        <td>0.19</td>\n",
       "    </tr>\n",
       "    <tr>\n",
       "        <td>TV Shows</td>\n",
       "        <td>1</td>\n",
       "        <td>0.1</td>\n",
       "    </tr>\n",
       "</table>"
      ],
      "text/plain": [
       "[('Rock', 561, 53.38),\n",
       " ('Alternative & Punk', 130, 12.37),\n",
       " ('Metal', 124, 11.8),\n",
       " ('R&B/Soul', 53, 5.04),\n",
       " ('Blues', 36, 3.43),\n",
       " ('Alternative', 35, 3.33),\n",
       " ('Latin', 22, 2.09),\n",
       " ('Pop', 22, 2.09),\n",
       " ('Hip Hop/Rap', 20, 1.9),\n",
       " ('Jazz', 14, 1.33),\n",
       " ('Easy Listening', 13, 1.24),\n",
       " ('Reggae', 6, 0.57),\n",
       " ('Electronica/Dance', 5, 0.48),\n",
       " ('Classical', 4, 0.38),\n",
       " ('Heavy Metal', 3, 0.29),\n",
       " ('Soundtrack', 2, 0.19),\n",
       " ('TV Shows', 1, 0.1)]"
      ]
     },
     "execution_count": 3,
     "metadata": {},
     "output_type": "execute_result"
    }
   ],
   "source": [
    "%%sql\n",
    "WITH usa_sales AS  -- tracks sold in USA\n",
    "                 (\n",
    "                  SELECT il.invoice_id, il.track_id\n",
    "                    FROM invoice_line AS il\n",
    "                         LEFT JOIN invoice AS i\n",
    "                         ON il.invoice_id = i.invoice_id\n",
    "                   WHERE i.billing_country = 'USA'\n",
    "                 ),\n",
    "     tracks_sold AS  -- tracks sold in USA by genre\n",
    "                   (\n",
    "                    SELECT g.name AS genre,\n",
    "                           COUNT(u.track_id) AS tracks_sold\n",
    "                      FROM usa_sales AS u\n",
    "                           LEFT JOIN track AS t ON u.track_id = t.track_id\n",
    "                           LEFT JOIN genre AS g ON t.genre_id = g.genre_id\n",
    "                     GROUP BY g.name\n",
    "                   )\n",
    "\n",
    "SELECT *,\n",
    "       ROUND(CAST(tracks_sold AS Float) \n",
    "       / (\n",
    "          SELECT COUNT(*) FROM usa_sales\n",
    "         )\n",
    "       * 100, 2) AS percentage\n",
    "  FROM tracks_sold\n",
    " ORDER BY tracks_sold DESC;"
   ]
  },
  {
   "cell_type": "markdown",
   "metadata": {},
   "source": [
    "According to table above, three artists whose albums we should purchase for the store are: **Red Tone**, **Meteor and the Girls**, **Slim Jim Bites**."
   ]
  },
  {
   "cell_type": "markdown",
   "metadata": {},
   "source": [
    "## Analyzing Employee Sales Performance"
   ]
  },
  {
   "cell_type": "markdown",
   "metadata": {
    "collapsed": true
   },
   "source": [
    "Each customer of the Chinook store gets assigned to a sales support agent within the company when they first make a purchase. Next, we'll analyze the purchases of customers belonging to each employee to see if any sales support agent is performing either better or worse than the others.\n",
    "\n",
    "Let's find the total amount of sales assigned to each sales support agent, along with their hire date."
   ]
  },
  {
   "cell_type": "code",
   "execution_count": 4,
   "metadata": {
    "collapsed": false,
    "scrolled": false
   },
   "outputs": [
    {
     "name": "stdout",
     "output_type": "stream",
     "text": [
      "Done.\n"
     ]
    },
    {
     "data": {
      "text/html": [
       "<table>\n",
       "    <tr>\n",
       "        <th>employee_id</th>\n",
       "        <th>employee_name</th>\n",
       "        <th>total_sales</th>\n",
       "        <th>hire_date</th>\n",
       "    </tr>\n",
       "    <tr>\n",
       "        <td>3</td>\n",
       "        <td>Jane Peacock</td>\n",
       "        <td>1731.5100000000039</td>\n",
       "        <td>2017-04-01 00:00:00</td>\n",
       "    </tr>\n",
       "    <tr>\n",
       "        <td>4</td>\n",
       "        <td>Margaret Park</td>\n",
       "        <td>1584.0000000000034</td>\n",
       "        <td>2017-05-03 00:00:00</td>\n",
       "    </tr>\n",
       "    <tr>\n",
       "        <td>5</td>\n",
       "        <td>Steve Johnson</td>\n",
       "        <td>1393.920000000002</td>\n",
       "        <td>2017-10-17 00:00:00</td>\n",
       "    </tr>\n",
       "</table>"
      ],
      "text/plain": [
       "[(3, 'Jane Peacock', 1731.5100000000039, '2017-04-01 00:00:00'),\n",
       " (4, 'Margaret Park', 1584.0000000000034, '2017-05-03 00:00:00'),\n",
       " (5, 'Steve Johnson', 1393.920000000002, '2017-10-17 00:00:00')]"
      ]
     },
     "execution_count": 4,
     "metadata": {},
     "output_type": "execute_result"
    }
   ],
   "source": [
    "%%sql\n",
    "WITH sales AS    -- total sales per employee\n",
    "             (\n",
    "              SELECT SUM(i.total) AS total_sales,\n",
    "                     c.support_rep_id\n",
    "                FROM invoice AS i\n",
    "                     LEFT JOIN customer AS c\n",
    "                     ON i.customer_id = c.customer_id\n",
    "               GROUP BY c.support_rep_id\n",
    "             )\n",
    "\n",
    "SELECT e.employee_id,\n",
    "       e.first_name || ' ' || e.last_name AS employee_name,\n",
    "       s.total_sales,\n",
    "       e.hire_date\n",
    "  FROM sales AS s\n",
    "       LEFT JOIN employee AS e\n",
    "       ON s.support_rep_id = e.employee_id;"
   ]
  },
  {
   "cell_type": "markdown",
   "metadata": {},
   "source": [
    "The result shows some differences in each employee's total sales. However, it can be explained by looking at the hire dates: an employee who worked for a longer period of time has a higher number of total sales assigned. In other words, there is no evidence indicates who had the best or worse performance."
   ]
  },
  {
   "cell_type": "markdown",
   "metadata": {},
   "source": [
    "## Sales by Country"
   ]
  },
  {
   "cell_type": "markdown",
   "metadata": {
    "collapsed": true
   },
   "source": [
    "The Chinook store wants to extract the sales data to see how customers from different countries are spending. In particular, the task is to calculate data, for each country, on the:\n",
    " - Total number of customers\n",
    " - Total value of sales\n",
    " - Average value of sales per customer\n",
    " - Average order value\n",
    "\n",
    "Countries with only one customer are to be collected into an *\"Other\"* group and put at the very bottom."
   ]
  },
  {
   "cell_type": "code",
   "execution_count": 5,
   "metadata": {
    "collapsed": false,
    "scrolled": false
   },
   "outputs": [
    {
     "name": "stdout",
     "output_type": "stream",
     "text": [
      "Done.\n"
     ]
    },
    {
     "data": {
      "text/html": [
       "<table>\n",
       "    <tr>\n",
       "        <th>country</th>\n",
       "        <th>number_of_customers</th>\n",
       "        <th>total_sales</th>\n",
       "        <th>sales_per_customer</th>\n",
       "        <th>value_per_order</th>\n",
       "    </tr>\n",
       "    <tr>\n",
       "        <td>USA</td>\n",
       "        <td>13</td>\n",
       "        <td>1040.490000000008</td>\n",
       "        <td>80.03769230769292</td>\n",
       "        <td>7.942671755725252</td>\n",
       "    </tr>\n",
       "    <tr>\n",
       "        <td>Canada</td>\n",
       "        <td>8</td>\n",
       "        <td>535.5900000000034</td>\n",
       "        <td>66.94875000000043</td>\n",
       "        <td>7.047236842105309</td>\n",
       "    </tr>\n",
       "    <tr>\n",
       "        <td>Brazil</td>\n",
       "        <td>5</td>\n",
       "        <td>427.68000000000245</td>\n",
       "        <td>85.53600000000048</td>\n",
       "        <td>7.011147540983647</td>\n",
       "    </tr>\n",
       "    <tr>\n",
       "        <td>France</td>\n",
       "        <td>5</td>\n",
       "        <td>389.0700000000021</td>\n",
       "        <td>77.81400000000042</td>\n",
       "        <td>7.781400000000042</td>\n",
       "    </tr>\n",
       "    <tr>\n",
       "        <td>Germany</td>\n",
       "        <td>4</td>\n",
       "        <td>334.6200000000016</td>\n",
       "        <td>83.6550000000004</td>\n",
       "        <td>8.161463414634186</td>\n",
       "    </tr>\n",
       "    <tr>\n",
       "        <td>Czech Republic</td>\n",
       "        <td>2</td>\n",
       "        <td>273.24000000000103</td>\n",
       "        <td>136.62000000000052</td>\n",
       "        <td>9.108000000000034</td>\n",
       "    </tr>\n",
       "    <tr>\n",
       "        <td>United Kingdom</td>\n",
       "        <td>3</td>\n",
       "        <td>245.52000000000078</td>\n",
       "        <td>81.84000000000026</td>\n",
       "        <td>8.768571428571457</td>\n",
       "    </tr>\n",
       "    <tr>\n",
       "        <td>Portugal</td>\n",
       "        <td>2</td>\n",
       "        <td>185.13000000000022</td>\n",
       "        <td>92.56500000000011</td>\n",
       "        <td>6.3837931034482835</td>\n",
       "    </tr>\n",
       "    <tr>\n",
       "        <td>India</td>\n",
       "        <td>2</td>\n",
       "        <td>183.1500000000002</td>\n",
       "        <td>91.5750000000001</td>\n",
       "        <td>8.72142857142858</td>\n",
       "    </tr>\n",
       "    <tr>\n",
       "        <td>Other</td>\n",
       "        <td>15</td>\n",
       "        <td>1094.9399999999994</td>\n",
       "        <td>72.99599999999995</td>\n",
       "        <td>7.445071062271058</td>\n",
       "    </tr>\n",
       "</table>"
      ],
      "text/plain": [
       "[('USA', 13, 1040.490000000008, 80.03769230769292, 7.942671755725252),\n",
       " ('Canada', 8, 535.5900000000034, 66.94875000000043, 7.047236842105309),\n",
       " ('Brazil', 5, 427.68000000000245, 85.53600000000048, 7.011147540983647),\n",
       " ('France', 5, 389.0700000000021, 77.81400000000042, 7.781400000000042),\n",
       " ('Germany', 4, 334.6200000000016, 83.6550000000004, 8.161463414634186),\n",
       " ('Czech Republic', 2, 273.24000000000103, 136.62000000000052, 9.108000000000034),\n",
       " ('United Kingdom', 3, 245.52000000000078, 81.84000000000026, 8.768571428571457),\n",
       " ('Portugal', 2, 185.13000000000022, 92.56500000000011, 6.3837931034482835),\n",
       " ('India', 2, 183.1500000000002, 91.5750000000001, 8.72142857142858),\n",
       " ('Other', 15, 1094.9399999999994, 72.99599999999995, 7.445071062271058)]"
      ]
     },
     "execution_count": 5,
     "metadata": {},
     "output_type": "execute_result"
    }
   ],
   "source": [
    "%%sql\n",
    "WITH country_sales AS  -- calculate summary statistics for each country\n",
    "                     (\n",
    "                      SELECT c.country AS country_name,\n",
    "                             COUNT(DISTINCT i.customer_id) AS number_of_customers,\n",
    "                             SUM(unit_price) AS total_sales,\n",
    "                             SUM(unit_price) / COUNT(DISTINCT i.customer_id) AS sales_per_customer,\n",
    "                             SUM(unit_price) / COUNT(DISTINCT il.invoice_id) AS value_per_order\n",
    "                        FROM invoice_line AS il\n",
    "                             LEFT JOIN invoice AS i ON il.invoice_id = i.invoice_id\n",
    "                             LEFT JOIN customer AS c ON i.customer_id = c.customer_id\n",
    "                       GROUP BY 1\n",
    "                     )\n",
    "    \n",
    "/* Group countries with one customer into \"Other\" */\n",
    "SELECT CASE\n",
    "           WHEN number_of_customers = 1 THEN 'Other'\n",
    "           ELSE country_name\n",
    "       END AS country,\n",
    "       SUM(number_of_customers) AS number_of_customers,\n",
    "       SUM(total_sales) AS total_sales,\n",
    "       AVG(sales_per_customer) AS sales_per_customer,\n",
    "       AVG(value_per_order) AS value_per_order\n",
    "  FROM (  -- create a sort column to put the \"Other\" group at the end\n",
    "        SELECT cs.*,\n",
    "               CASE\n",
    "                   WHEN cs.number_of_customers = 1 THEN 1\n",
    "                   ELSE 0\n",
    "               END AS sort\n",
    "          FROM country_sales AS cs\n",
    "       )\n",
    " GROUP BY country\n",
    " ORDER BY sort, total_sales DESC;"
   ]
  },
  {
   "cell_type": "markdown",
   "metadata": {},
   "source": [
    "## Album vs Individual Tracks"
   ]
  },
  {
   "cell_type": "markdown",
   "metadata": {},
   "source": [
    "The Chinook store wants to save money by considering changing its purchasing strategy: Instead of purchasing a whole album from record companies, it would only purchase the most popular tracks from that album. To understand the effect of this decision on overall revenue, we'll need to find out the percentages of customers' individual tracks purchases, comparing to album purchases.\n",
    "\n",
    "We're going to categorize each invoice as either an album purchase or not by identifying whether each invoice has all the tracks from an album, then calculate the number/percentage of invoices."
   ]
  },
  {
   "cell_type": "code",
   "execution_count": 23,
   "metadata": {
    "collapsed": false,
    "scrolled": true
   },
   "outputs": [
    {
     "name": "stdout",
     "output_type": "stream",
     "text": [
      "Done.\n"
     ]
    },
    {
     "data": {
      "text/html": [
       "<table>\n",
       "    <tr>\n",
       "        <th>purchase_type</th>\n",
       "        <th>number_of_invoices</th>\n",
       "        <th>percentage</th>\n",
       "    </tr>\n",
       "    <tr>\n",
       "        <td>album</td>\n",
       "        <td>114</td>\n",
       "        <td>18.57</td>\n",
       "    </tr>\n",
       "    <tr>\n",
       "        <td>individuals</td>\n",
       "        <td>500</td>\n",
       "        <td>81.43</td>\n",
       "    </tr>\n",
       "</table>"
      ],
      "text/plain": [
       "[('album', 114, 18.57), ('individuals', 500, 81.43)]"
      ]
     },
     "execution_count": 23,
     "metadata": {},
     "output_type": "execute_result"
    }
   ],
   "source": [
    "%%sql\n",
    "WITH invoice_track AS\n",
    "                     (\n",
    "                      SELECT i.*, t.album_id\n",
    "                        FROM \n",
    "                            (\n",
    "                             SELECT invoice_id, track_id\n",
    "                               FROM invoice_line\n",
    "                              GROUP BY 1\n",
    "                            ) AS i\n",
    "                            LEFT JOIN track AS t\n",
    "                            ON i.track_id = t.track_id\n",
    "                     ),\n",
    "     invoice_categorized AS\n",
    "                           (\n",
    "                            SELECT it.invoice_id,\n",
    "                                   CASE     -- comparing tracks from invoice and tracks from album\n",
    "                                       WHEN\n",
    "                                           (\n",
    "                                            SELECT il.track_id\n",
    "                                              FROM invoice_line AS il\n",
    "                                             WHERE il.invoice_id = it.invoice_id\n",
    "                                            \n",
    "                                            EXCEPT\n",
    "                                               \n",
    "                                            SELECT t.track_id \n",
    "                                              FROM track AS t \n",
    "                                             WHERE t.album_id = it.album_id \n",
    "                                           ) IS NULL\n",
    "                                       AND\n",
    "                                           (\n",
    "                                            SELECT t.track_id \n",
    "                                              FROM track AS t \n",
    "                                             WHERE t.album_id = it.album_id\n",
    "                                            \n",
    "                                            EXCEPT\n",
    "                                            \n",
    "                                            SELECT il.track_id\n",
    "                                              FROM invoice_line AS il \n",
    "                                             WHERE il.invoice_id = it.invoice_id\n",
    "                                           ) IS NULL\n",
    "                                       THEN 'album'\n",
    "                                       ELSE 'individuals'\n",
    "                                   END AS purchase_type\n",
    "                              FROM invoice_track AS it\n",
    "                           )\n",
    "            \n",
    "SELECT purchase_type,\n",
    "       COUNT(invoice_id) AS number_of_invoices,\n",
    "       ROUND(CAST(COUNT(invoice_id) AS FLOAT) / (SELECT COUNT(*) FROM invoice_categorized)* 100, 2) AS percentage\n",
    "  FROM invoice_categorized\n",
    " GROUP BY 1;\n"
   ]
  },
  {
   "cell_type": "markdown",
   "metadata": {},
   "source": [
    "**Conclusion**: There is a considerable amount of album purchases from customers (18.57%), so it's probably not a good idea to stop buying albums from record companies, as this could result in a potential loss of revenue."
   ]
  }
 ],
 "metadata": {
  "kernelspec": {
   "display_name": "Python 3",
   "language": "python",
   "name": "python3"
  },
  "language_info": {
   "codemirror_mode": {
    "name": "ipython",
    "version": 3
   },
   "file_extension": ".py",
   "mimetype": "text/x-python",
   "name": "python",
   "nbconvert_exporter": "python",
   "pygments_lexer": "ipython3",
   "version": "3.4.3"
  }
 },
 "nbformat": 4,
 "nbformat_minor": 2
}
